{
 "cells": [
  {
   "cell_type": "markdown",
   "metadata": {
    "id": "yTKkKaH4kS34"
   },
   "source": [
    "\n",
    "\n",
    "# Ime i prezime polaznice: \n",
    "\n",
    "Selma Osmanagic"
   ]
  },
  {
   "cell_type": "markdown",
   "metadata": {
    "id": "iCi4dnZ8hjVV"
   },
   "source": [
    "# **1. Zadatak - Teorija**\n",
    "\n",
    "Pitanje 1: Random Forest Classifer je machine learning model kod kojeg veoma lako mozemo interpretirati rezultate klasifikacije. TACNO / NETACNO\n",
    "\n",
    "Pitanje 2: “Feature” je terminologija kojom opisujemo varijablu koju zelimo predvidjeti?\n",
    "TACNO / NETACNO\n",
    "\n",
    "Pitanje 3: “Label” u machine learningu oznacava natpise na osama na grafu kada vizualiziramo nase podatke?\n",
    "TACNO / NETACNO\n",
    "\n",
    "Pitanje 4: KNN je metod koji mozemo primjeniti na nekategorickim vrijednostima.\n",
    "TACNO / NETACNO\n",
    "\n",
    "Pitanje 5: \"Precision\" je metrika koja najbolje pokazuje koliko dobro nas klasifikacijski model performira? \n",
    "TACNO / NETACNO"
   ]
  },
  {
   "cell_type": "markdown",
   "metadata": {
    "id": "sVBUZWR5jGmd"
   },
   "source": [
    "# **1. Zadatak odgovori:**\n",
    "\n",
    "\n",
    "*   Pitanje 1: NETACNO\n",
    "*   Pitanje 2: NETACNO\n",
    "*   Pitanje 3: NETACNO\n",
    "*   Pitanje 4: NETACNO\n",
    "*   Pitanje 5: TACNO\n"
   ]
  },
  {
   "cell_type": "markdown",
   "metadata": {
    "id": "evZXKxbcknwM"
   },
   "source": [
    "# **2. Zadatak - Analytics ![tabela](https://i.ibb.co/BKnXYsy/Screen-Shot-2021-03-18-at-16-24-35.png)**"
   ]
  },
  {
   "cell_type": "markdown",
   "metadata": {
    "id": "TjddW_LxB1R1"
   },
   "source": [
    "# **2. Zadatak odgovor:**\n",
    "\n",
    "Problem 1: \n",
    "\n",
    "U posljednjoj koloni 'DIVISION' navedeni su vjerovatno USA gradovi: \n",
    "LA (Los Angeles),\n",
    "BS (Boston, alternativna skraćenica BOS),\n",
    "NY (New York),\n",
    "CH (problematična kratica jer se odnosi na državu Švicarsku, vjerovatno je trebalo pisati CHI što je kratica za Chicago, jer se sve ostale skraćenice odnose na velike gradove SAD-a),\n",
    "NA (promlematično, značenje 'not available') \n",
    "\n",
    "\n",
    "\n",
    "Problem 2: \n",
    "\n",
    "UID (unique identifier) mora biti jedinstven. Niz cifara 494942 je dva puta naveden sa potpuno istim podacima u svim kolonama osim u koloni 'DIVISON' gdje je jednom naveden NY, a drugi put NA (moguće značenje: not available).\n",
    "\n",
    "Niz cifara 44432 je također naveden dva puta sa svim različitim podacima u ostalim kolonama. \n",
    "\n",
    "Niz cifara 43494 se također ponavlja dva puta, pri čemu su podaci u koloni 'NAME' jedini koji se razlikuju. \n",
    "\n",
    "\n",
    "\n",
    "Problem 3: \n",
    "\n",
    "U 'PER ANNUM' koloni su izražene godišnje plate u cijelim brojevima, sumnjivo je što se pet puta ponavlja isti iznos (92,443) i to za UID-eve po brojevima 494942(2 puta), 10, 77843, 32432. Nema neke poveznice između navednih UID-ova (osim za 494942) što navodi na zaključak da su podaci lažirani. \n",
    " \n",
    "U koloni 'PER ANNUM' se godišnja plata iznosa 81,439 ponavlja tri puta i to za UID-eve po brojevima 32322, 44432 i 7489.\n",
    "\n",
    "Godišnja plata u iznosu od 70,943 se ponavlja četiri puta i to za UID-eve po brojevima 43493 (dva puta) i 44432.\n",
    "\n",
    "Godišnja plata 56,942 se ponavlja dva puta i to za UID-eve pod brojevima 30492 i 555324. \n",
    "\n",
    "Plate za UID-eve pod brojevima 332 i 32221 se razlikuju u samo jednoj cifri što je sumnjivo. \n",
    "\n"
   ]
  },
  {
   "cell_type": "markdown",
   "metadata": {
    "id": "GAj7EOnO_LVK"
   },
   "source": [
    "# **Zadatak 3**\n",
    "\n",
    "Za dostavljeni iris dataset uradite sljedece: \n",
    "\n",
    "\n",
    "\n",
    "*   Ucitajte dataset u pandas dataframe\n",
    "*   Uradite osnovne statistike (min, max, median, average) nad kolonama\n",
    "*   Provjerite da li postoje null vrijednosti (ukoliko da, odlucite se za metod kojim cete rijesiti taj problem i primjenite ga na dataframeu)\n",
    "*   Uradite neku vizualizaciju podataka po zelji\n",
    "\n",
    "\n"
   ]
  },
  {
   "cell_type": "code",
   "execution_count": 59,
   "metadata": {
    "id": "z90Daye6BSZx"
   },
   "outputs": [
    {
     "data": {
      "text/plain": [
       "(150, 5)"
      ]
     },
     "execution_count": 59,
     "metadata": {},
     "output_type": "execute_result"
    }
   ],
   "source": [
    "import pandas as pd\n",
    "import numpy as np\n",
    "import seaborn as sns\n",
    "import matplotlib.pyplot as plt\n",
    "%matplotlib inline\n",
    "\n",
    "data = pd.read_csv(r'C:\\Users\\LostG\\Desktop\\DS\\python 2\\data sets\\Iris.csv', index_col = 0)\n",
    "\n",
    "#ocitavam broj redova i broj kolona\n",
    "data.shape"
   ]
  },
  {
   "cell_type": "code",
   "execution_count": 60,
   "metadata": {},
   "outputs": [
    {
     "data": {
      "text/html": [
       "<div>\n",
       "<style scoped>\n",
       "    .dataframe tbody tr th:only-of-type {\n",
       "        vertical-align: middle;\n",
       "    }\n",
       "\n",
       "    .dataframe tbody tr th {\n",
       "        vertical-align: top;\n",
       "    }\n",
       "\n",
       "    .dataframe thead th {\n",
       "        text-align: right;\n",
       "    }\n",
       "</style>\n",
       "<table border=\"1\" class=\"dataframe\">\n",
       "  <thead>\n",
       "    <tr style=\"text-align: right;\">\n",
       "      <th></th>\n",
       "      <th>SepalLengthCm</th>\n",
       "      <th>SepalWidthCm</th>\n",
       "      <th>PetalLengthCm</th>\n",
       "      <th>PetalWidthCm</th>\n",
       "      <th>Species</th>\n",
       "    </tr>\n",
       "    <tr>\n",
       "      <th>Id</th>\n",
       "      <th></th>\n",
       "      <th></th>\n",
       "      <th></th>\n",
       "      <th></th>\n",
       "      <th></th>\n",
       "    </tr>\n",
       "  </thead>\n",
       "  <tbody>\n",
       "    <tr>\n",
       "      <th>146.0</th>\n",
       "      <td>6.7</td>\n",
       "      <td>3.0</td>\n",
       "      <td>5.2</td>\n",
       "      <td>2.3</td>\n",
       "      <td>Iris-virginica</td>\n",
       "    </tr>\n",
       "    <tr>\n",
       "      <th>147.0</th>\n",
       "      <td>6.3</td>\n",
       "      <td>2.5</td>\n",
       "      <td>5.0</td>\n",
       "      <td>1.9</td>\n",
       "      <td>Iris-virginica</td>\n",
       "    </tr>\n",
       "    <tr>\n",
       "      <th>148.0</th>\n",
       "      <td>6.5</td>\n",
       "      <td>3.0</td>\n",
       "      <td>5.2</td>\n",
       "      <td>2.0</td>\n",
       "      <td>Iris-virginica</td>\n",
       "    </tr>\n",
       "    <tr>\n",
       "      <th>149.0</th>\n",
       "      <td>6.2</td>\n",
       "      <td>3.4</td>\n",
       "      <td>5.4</td>\n",
       "      <td>2.3</td>\n",
       "      <td>Iris-virginica</td>\n",
       "    </tr>\n",
       "    <tr>\n",
       "      <th>150.0</th>\n",
       "      <td>NaN</td>\n",
       "      <td>3.0</td>\n",
       "      <td>5.1</td>\n",
       "      <td>1.8</td>\n",
       "      <td>Iris-virginica</td>\n",
       "    </tr>\n",
       "  </tbody>\n",
       "</table>\n",
       "</div>"
      ],
      "text/plain": [
       "       SepalLengthCm  SepalWidthCm  PetalLengthCm  PetalWidthCm  \\\n",
       "Id                                                                \n",
       "146.0            6.7           3.0            5.2           2.3   \n",
       "147.0            6.3           2.5            5.0           1.9   \n",
       "148.0            6.5           3.0            5.2           2.0   \n",
       "149.0            6.2           3.4            5.4           2.3   \n",
       "150.0            NaN           3.0            5.1           1.8   \n",
       "\n",
       "              Species  \n",
       "Id                     \n",
       "146.0  Iris-virginica  \n",
       "147.0  Iris-virginica  \n",
       "148.0  Iris-virginica  \n",
       "149.0  Iris-virginica  \n",
       "150.0  Iris-virginica  "
      ]
     },
     "execution_count": 60,
     "metadata": {},
     "output_type": "execute_result"
    }
   ],
   "source": [
    "#posljednjih 5 redova dataset-a, da provjerim da li je sve u redu sa učitavanjem\n",
    "data.tail()"
   ]
  },
  {
   "cell_type": "code",
   "execution_count": 61,
   "metadata": {},
   "outputs": [
    {
     "data": {
      "text/plain": [
       "Iris-setosa        50\n",
       "Iris-versicolor    50\n",
       "Iris-virginica     50\n",
       "Name: Species, dtype: int64"
      ]
     },
     "execution_count": 61,
     "metadata": {},
     "output_type": "execute_result"
    }
   ],
   "source": [
    "#provjeram sadržaj dataset-a\n",
    "data[\"Species\"].value_counts()\n"
   ]
  },
  {
   "cell_type": "code",
   "execution_count": 62,
   "metadata": {},
   "outputs": [
    {
     "data": {
      "text/plain": [
       "Index(['SepalLengthCm', 'SepalWidthCm', 'PetalLengthCm', 'PetalWidthCm',\n",
       "       'Species'],\n",
       "      dtype='object')"
      ]
     },
     "execution_count": 62,
     "metadata": {},
     "output_type": "execute_result"
    }
   ],
   "source": [
    "#očitamo imena kolona\n",
    "data.columns"
   ]
  },
  {
   "cell_type": "code",
   "execution_count": 72,
   "metadata": {},
   "outputs": [
    {
     "data": {
      "text/html": [
       "<div>\n",
       "<style scoped>\n",
       "    .dataframe tbody tr th:only-of-type {\n",
       "        vertical-align: middle;\n",
       "    }\n",
       "\n",
       "    .dataframe tbody tr th {\n",
       "        vertical-align: top;\n",
       "    }\n",
       "\n",
       "    .dataframe thead th {\n",
       "        text-align: right;\n",
       "    }\n",
       "</style>\n",
       "<table border=\"1\" class=\"dataframe\">\n",
       "  <thead>\n",
       "    <tr style=\"text-align: right;\">\n",
       "      <th></th>\n",
       "      <th>SepalLengthCm</th>\n",
       "      <th>SepalWidthCm</th>\n",
       "      <th>PetalLengthCm</th>\n",
       "      <th>PetalWidthCm</th>\n",
       "    </tr>\n",
       "  </thead>\n",
       "  <tbody>\n",
       "    <tr>\n",
       "      <th>count</th>\n",
       "      <td>145.000000</td>\n",
       "      <td>145.000000</td>\n",
       "      <td>145.000000</td>\n",
       "      <td>145.000000</td>\n",
       "    </tr>\n",
       "    <tr>\n",
       "      <th>mean</th>\n",
       "      <td>5.827586</td>\n",
       "      <td>3.053793</td>\n",
       "      <td>3.713793</td>\n",
       "      <td>1.176552</td>\n",
       "    </tr>\n",
       "    <tr>\n",
       "      <th>std</th>\n",
       "      <td>0.834456</td>\n",
       "      <td>0.438276</td>\n",
       "      <td>1.773361</td>\n",
       "      <td>0.761943</td>\n",
       "    </tr>\n",
       "    <tr>\n",
       "      <th>min</th>\n",
       "      <td>4.300000</td>\n",
       "      <td>2.000000</td>\n",
       "      <td>1.000000</td>\n",
       "      <td>0.100000</td>\n",
       "    </tr>\n",
       "    <tr>\n",
       "      <th>25%</th>\n",
       "      <td>5.100000</td>\n",
       "      <td>2.800000</td>\n",
       "      <td>1.500000</td>\n",
       "      <td>0.300000</td>\n",
       "    </tr>\n",
       "    <tr>\n",
       "      <th>50%</th>\n",
       "      <td>5.700000</td>\n",
       "      <td>3.000000</td>\n",
       "      <td>4.300000</td>\n",
       "      <td>1.300000</td>\n",
       "    </tr>\n",
       "    <tr>\n",
       "      <th>75%</th>\n",
       "      <td>6.400000</td>\n",
       "      <td>3.300000</td>\n",
       "      <td>5.100000</td>\n",
       "      <td>1.800000</td>\n",
       "    </tr>\n",
       "    <tr>\n",
       "      <th>max</th>\n",
       "      <td>7.900000</td>\n",
       "      <td>4.400000</td>\n",
       "      <td>6.900000</td>\n",
       "      <td>2.500000</td>\n",
       "    </tr>\n",
       "  </tbody>\n",
       "</table>\n",
       "</div>"
      ],
      "text/plain": [
       "       SepalLengthCm  SepalWidthCm  PetalLengthCm  PetalWidthCm\n",
       "count     145.000000    145.000000     145.000000    145.000000\n",
       "mean        5.827586      3.053793       3.713793      1.176552\n",
       "std         0.834456      0.438276       1.773361      0.761943\n",
       "min         4.300000      2.000000       1.000000      0.100000\n",
       "25%         5.100000      2.800000       1.500000      0.300000\n",
       "50%         5.700000      3.000000       4.300000      1.300000\n",
       "75%         6.400000      3.300000       5.100000      1.800000\n",
       "max         7.900000      4.400000       6.900000      2.500000"
      ]
     },
     "execution_count": 72,
     "metadata": {},
     "output_type": "execute_result"
    }
   ],
   "source": [
    "#koristim describe da bih dobila sve potrebne vrijednosti u jednoj tabeli \n",
    "data.describe()\n"
   ]
  },
  {
   "cell_type": "code",
   "execution_count": 64,
   "metadata": {},
   "outputs": [
    {
     "data": {
      "text/html": [
       "<div>\n",
       "<style scoped>\n",
       "    .dataframe tbody tr th:only-of-type {\n",
       "        vertical-align: middle;\n",
       "    }\n",
       "\n",
       "    .dataframe tbody tr th {\n",
       "        vertical-align: top;\n",
       "    }\n",
       "\n",
       "    .dataframe thead th {\n",
       "        text-align: right;\n",
       "    }\n",
       "</style>\n",
       "<table border=\"1\" class=\"dataframe\">\n",
       "  <thead>\n",
       "    <tr style=\"text-align: right;\">\n",
       "      <th></th>\n",
       "      <th>SepalLengthCm</th>\n",
       "      <th>SepalWidthCm</th>\n",
       "      <th>PetalLengthCm</th>\n",
       "      <th>PetalWidthCm</th>\n",
       "      <th>Species</th>\n",
       "    </tr>\n",
       "    <tr>\n",
       "      <th>Id</th>\n",
       "      <th></th>\n",
       "      <th></th>\n",
       "      <th></th>\n",
       "      <th></th>\n",
       "      <th></th>\n",
       "    </tr>\n",
       "  </thead>\n",
       "  <tbody>\n",
       "    <tr>\n",
       "      <th>150.0</th>\n",
       "      <td>NaN</td>\n",
       "      <td>3.0</td>\n",
       "      <td>5.1</td>\n",
       "      <td>1.8</td>\n",
       "      <td>Iris-virginica</td>\n",
       "    </tr>\n",
       "  </tbody>\n",
       "</table>\n",
       "</div>"
      ],
      "text/plain": [
       "       SepalLengthCm  SepalWidthCm  PetalLengthCm  PetalWidthCm  \\\n",
       "Id                                                                \n",
       "150.0            NaN           3.0            5.1           1.8   \n",
       "\n",
       "              Species  \n",
       "Id                     \n",
       "150.0  Iris-virginica  "
      ]
     },
     "execution_count": 64,
     "metadata": {},
     "output_type": "execute_result"
    }
   ],
   "source": [
    "#ispisujem one redove koje imaju neku null-vrijednost u drugoj  koloni \n",
    "data[pd.isnull(data['SepalLengthCm'])]"
   ]
  },
  {
   "cell_type": "code",
   "execution_count": 65,
   "metadata": {},
   "outputs": [
    {
     "data": {
      "text/html": [
       "<div>\n",
       "<style scoped>\n",
       "    .dataframe tbody tr th:only-of-type {\n",
       "        vertical-align: middle;\n",
       "    }\n",
       "\n",
       "    .dataframe tbody tr th {\n",
       "        vertical-align: top;\n",
       "    }\n",
       "\n",
       "    .dataframe thead th {\n",
       "        text-align: right;\n",
       "    }\n",
       "</style>\n",
       "<table border=\"1\" class=\"dataframe\">\n",
       "  <thead>\n",
       "    <tr style=\"text-align: right;\">\n",
       "      <th></th>\n",
       "      <th>SepalLengthCm</th>\n",
       "      <th>SepalWidthCm</th>\n",
       "      <th>PetalLengthCm</th>\n",
       "      <th>PetalWidthCm</th>\n",
       "      <th>Species</th>\n",
       "    </tr>\n",
       "    <tr>\n",
       "      <th>Id</th>\n",
       "      <th></th>\n",
       "      <th></th>\n",
       "      <th></th>\n",
       "      <th></th>\n",
       "      <th></th>\n",
       "    </tr>\n",
       "  </thead>\n",
       "  <tbody>\n",
       "    <tr>\n",
       "      <th>87.0</th>\n",
       "      <td>6.7</td>\n",
       "      <td>NaN</td>\n",
       "      <td>4.7</td>\n",
       "      <td>1.5</td>\n",
       "      <td>Iris-versicolor</td>\n",
       "    </tr>\n",
       "    <tr>\n",
       "      <th>137.0</th>\n",
       "      <td>6.3</td>\n",
       "      <td>NaN</td>\n",
       "      <td>5.6</td>\n",
       "      <td>2.4</td>\n",
       "      <td>Iris-virginica</td>\n",
       "    </tr>\n",
       "  </tbody>\n",
       "</table>\n",
       "</div>"
      ],
      "text/plain": [
       "       SepalLengthCm  SepalWidthCm  PetalLengthCm  PetalWidthCm  \\\n",
       "Id                                                                \n",
       "87.0             6.7           NaN            4.7           1.5   \n",
       "137.0            6.3           NaN            5.6           2.4   \n",
       "\n",
       "               Species  \n",
       "Id                      \n",
       "87.0   Iris-versicolor  \n",
       "137.0   Iris-virginica  "
      ]
     },
     "execution_count": 65,
     "metadata": {},
     "output_type": "execute_result"
    }
   ],
   "source": [
    "#ispisujem one redove koje imaju neku null-vrijednost u prvoj koloni \n",
    "data[pd.isnull(data['SepalWidthCm'])]"
   ]
  },
  {
   "cell_type": "code",
   "execution_count": 20,
   "metadata": {},
   "outputs": [
    {
     "data": {
      "text/html": [
       "<div>\n",
       "<style scoped>\n",
       "    .dataframe tbody tr th:only-of-type {\n",
       "        vertical-align: middle;\n",
       "    }\n",
       "\n",
       "    .dataframe tbody tr th {\n",
       "        vertical-align: top;\n",
       "    }\n",
       "\n",
       "    .dataframe thead th {\n",
       "        text-align: right;\n",
       "    }\n",
       "</style>\n",
       "<table border=\"1\" class=\"dataframe\">\n",
       "  <thead>\n",
       "    <tr style=\"text-align: right;\">\n",
       "      <th></th>\n",
       "      <th>SepalLengthCm</th>\n",
       "      <th>SepalWidthCm</th>\n",
       "      <th>PetalLengthCm</th>\n",
       "      <th>PetalWidthCm</th>\n",
       "      <th>Species</th>\n",
       "    </tr>\n",
       "    <tr>\n",
       "      <th>Id</th>\n",
       "      <th></th>\n",
       "      <th></th>\n",
       "      <th></th>\n",
       "      <th></th>\n",
       "      <th></th>\n",
       "    </tr>\n",
       "  </thead>\n",
       "  <tbody>\n",
       "    <tr>\n",
       "      <th>93.0</th>\n",
       "      <td>5.8</td>\n",
       "      <td>2.6</td>\n",
       "      <td>NaN</td>\n",
       "      <td>1.2</td>\n",
       "      <td>Iris-versicolor</td>\n",
       "    </tr>\n",
       "  </tbody>\n",
       "</table>\n",
       "</div>"
      ],
      "text/plain": [
       "      SepalLengthCm  SepalWidthCm  PetalLengthCm  PetalWidthCm  \\\n",
       "Id                                                               \n",
       "93.0            5.8           2.6            NaN           1.2   \n",
       "\n",
       "              Species  \n",
       "Id                     \n",
       "93.0  Iris-versicolor  "
      ]
     },
     "execution_count": 20,
     "metadata": {},
     "output_type": "execute_result"
    }
   ],
   "source": [
    "#ispisujem one redove koje imaju neku null-vrijednost u trećoj koloni \n",
    "data[pd.isnull(data['PetalLengthCm'])]"
   ]
  },
  {
   "cell_type": "code",
   "execution_count": 19,
   "metadata": {},
   "outputs": [
    {
     "data": {
      "text/html": [
       "<div>\n",
       "<style scoped>\n",
       "    .dataframe tbody tr th:only-of-type {\n",
       "        vertical-align: middle;\n",
       "    }\n",
       "\n",
       "    .dataframe tbody tr th {\n",
       "        vertical-align: top;\n",
       "    }\n",
       "\n",
       "    .dataframe thead th {\n",
       "        text-align: right;\n",
       "    }\n",
       "</style>\n",
       "<table border=\"1\" class=\"dataframe\">\n",
       "  <thead>\n",
       "    <tr style=\"text-align: right;\">\n",
       "      <th></th>\n",
       "      <th>SepalLengthCm</th>\n",
       "      <th>SepalWidthCm</th>\n",
       "      <th>PetalLengthCm</th>\n",
       "      <th>PetalWidthCm</th>\n",
       "      <th>Species</th>\n",
       "    </tr>\n",
       "    <tr>\n",
       "      <th>Id</th>\n",
       "      <th></th>\n",
       "      <th></th>\n",
       "      <th></th>\n",
       "      <th></th>\n",
       "      <th></th>\n",
       "    </tr>\n",
       "  </thead>\n",
       "  <tbody>\n",
       "    <tr>\n",
       "      <th>144.0</th>\n",
       "      <td>6.8</td>\n",
       "      <td>3.2</td>\n",
       "      <td>5.9</td>\n",
       "      <td>NaN</td>\n",
       "      <td>Iris-virginica</td>\n",
       "    </tr>\n",
       "  </tbody>\n",
       "</table>\n",
       "</div>"
      ],
      "text/plain": [
       "       SepalLengthCm  SepalWidthCm  PetalLengthCm  PetalWidthCm  \\\n",
       "Id                                                                \n",
       "144.0            6.8           3.2            5.9           NaN   \n",
       "\n",
       "              Species  \n",
       "Id                     \n",
       "144.0  Iris-virginica  "
      ]
     },
     "execution_count": 19,
     "metadata": {},
     "output_type": "execute_result"
    }
   ],
   "source": [
    "#ispisujem one redove koje imaju neku null-vrijednost u četvrtoj koloni \n",
    "data[pd.isnull(data['PetalWidthCm'])]"
   ]
  },
  {
   "cell_type": "code",
   "execution_count": 18,
   "metadata": {},
   "outputs": [
    {
     "data": {
      "text/html": [
       "<div>\n",
       "<style scoped>\n",
       "    .dataframe tbody tr th:only-of-type {\n",
       "        vertical-align: middle;\n",
       "    }\n",
       "\n",
       "    .dataframe tbody tr th {\n",
       "        vertical-align: top;\n",
       "    }\n",
       "\n",
       "    .dataframe thead th {\n",
       "        text-align: right;\n",
       "    }\n",
       "</style>\n",
       "<table border=\"1\" class=\"dataframe\">\n",
       "  <thead>\n",
       "    <tr style=\"text-align: right;\">\n",
       "      <th></th>\n",
       "      <th>SepalLengthCm</th>\n",
       "      <th>SepalWidthCm</th>\n",
       "      <th>PetalLengthCm</th>\n",
       "      <th>PetalWidthCm</th>\n",
       "      <th>Species</th>\n",
       "    </tr>\n",
       "    <tr>\n",
       "      <th>Id</th>\n",
       "      <th></th>\n",
       "      <th></th>\n",
       "      <th></th>\n",
       "      <th></th>\n",
       "      <th></th>\n",
       "    </tr>\n",
       "  </thead>\n",
       "  <tbody>\n",
       "  </tbody>\n",
       "</table>\n",
       "</div>"
      ],
      "text/plain": [
       "Empty DataFrame\n",
       "Columns: [SepalLengthCm, SepalWidthCm, PetalLengthCm, PetalWidthCm, Species]\n",
       "Index: []"
      ]
     },
     "execution_count": 18,
     "metadata": {},
     "output_type": "execute_result"
    }
   ],
   "source": [
    "#ispisujem one redove koje imaju neku null-vrijednost u petoj koloni \n",
    "data[pd.isnull(data['Species'])]"
   ]
  },
  {
   "cell_type": "code",
   "execution_count": 66,
   "metadata": {},
   "outputs": [],
   "source": [
    "# izbacujem sve redove koji imaju bilo koju nultu vrijednost radi preciznijih grafova\n",
    "data.dropna(inplace = True)  \n"
   ]
  },
  {
   "cell_type": "code",
   "execution_count": 67,
   "metadata": {},
   "outputs": [
    {
     "data": {
      "text/plain": [
       "<seaborn.axisgrid.FacetGrid at 0x26a9a225bb0>"
      ]
     },
     "execution_count": 67,
     "metadata": {},
     "output_type": "execute_result"
    },
    {
     "data": {
      "image/png": "[encoded data removed]",
      "text/plain": [
       "<Figure size 499.25x396 with 1 Axes>"
      ]
     },
     "metadata": {
      "needs_background": "light"
     },
     "output_type": "display_data"
    }
   ],
   "source": [
    "sns.FacetGrid(data, hue=\"Species\", palette=\"rocket\", height=5.5).map(sns.kdeplot, \"PetalLengthCm\").add_legend()"
   ]
  },
  {
   "cell_type": "code",
   "execution_count": 68,
   "metadata": {},
   "outputs": [
    {
     "data": {
      "text/plain": [
       "Iris-setosa        50\n",
       "Iris-versicolor    48\n",
       "Iris-virginica     47\n",
       "Name: Species, dtype: int64"
      ]
     },
     "execution_count": 68,
     "metadata": {},
     "output_type": "execute_result"
    }
   ],
   "source": [
    "#provjeram sadržaj dataset-a\n",
    "data[\"Species\"].value_counts()\n"
   ]
  },
  {
   "cell_type": "code",
   "execution_count": 69,
   "metadata": {},
   "outputs": [
    {
     "data": {
      "text/plain": [
       "Index(['SepalLengthCm', 'SepalWidthCm', 'PetalLengthCm', 'PetalWidthCm',\n",
       "       'Species'],\n",
       "      dtype='object')"
      ]
     },
     "execution_count": 69,
     "metadata": {},
     "output_type": "execute_result"
    }
   ],
   "source": [
    "data.columns"
   ]
  },
  {
   "cell_type": "code",
   "execution_count": 73,
   "metadata": {},
   "outputs": [
    {
     "data": {
      "text/plain": [
       "Text(0.5, 1.0, 'Prikaz sve 3 vrste iris cvijeta u odnosu na duzinu i sirinu latica')"
      ]
     },
     "execution_count": 73,
     "metadata": {},
     "output_type": "execute_result"
    },
    {
     "data": {
      "image/png": "[encoded data removed]",
      "text/plain": [
       "<Figure size 432x288 with 1 Axes>"
      ]
     },
     "metadata": {
      "needs_background": "light"
     },
     "output_type": "display_data"
    }
   ],
   "source": [
    "# scatter plot using pandas\n",
    "\n",
    "plot_iris = data[data.Species=='Iris-setosa'].plot.scatter(x='SepalLengthCm', y='SepalWidthCm', color='darkorange', label='Setosa')\n",
    "data[data.Species=='Iris-versicolor'].plot.scatter(x='SepalLengthCm', y='SepalWidthCm', color='crimson', label='Versicolor', ax=plot_iris)\n",
    "data[data.Species=='Iris-virginica'].plot.scatter(x='SepalLengthCm', y='SepalWidthCm', color='palevioletred', label='Virginica', ax=plot_iris)\n",
    "plot_iris.set_title(\"Prikaz sve 3 vrste iris cvijeta u odnosu na duzinu i sirinu latica\")"
   ]
  },
  {
   "cell_type": "code",
   "execution_count": null,
   "metadata": {},
   "outputs": [],
   "source": []
  },
  {
   "cell_type": "markdown",
   "metadata": {
    "id": "y9Ytj0mTCVQR"
   },
   "source": [
    "# **4. Zadatak - Machine Learning**\n",
    "\n",
    "\n",
    "Za dostavljeni Iris dataset odaberite klasifikacijski model kojim ce biti moguce sto bolje na osnovu features u datasetu predvidjeti klasu biljke. \n",
    "\n",
    "\n",
    "Zadatak ce biti ocijenjen po sljedecim kriterijima:\n",
    "\n",
    "\n",
    "*   Odabir machine learning modela (dodati bodovi za komentare, analizu, vizualizaciju i pregledavanje podataka i elaboraciju zasto je dati model odabran)\n",
    "*   Kod (urednost, logicnost, modularnost)\n",
    "\n",
    "*   Odabir features, testiranje, metrike (dodatni bodovi za vizualizacije)\n"
   ]
  },
  {
   "cell_type": "code",
   "execution_count": null,
   "metadata": {},
   "outputs": [],
   "source": []
  },
  {
   "cell_type": "code",
   "execution_count": null,
   "metadata": {},
   "outputs": [],
   "source": []
  },
  {
   "cell_type": "code",
   "execution_count": null,
   "metadata": {
    "id": "eTB_n6TWEAKo"
   },
   "outputs": [],
   "source": []
  }
 ],
 "metadata": {
  "colab": {
   "name": "Zavrsni ispit.ipynb",
   "provenance": []
  },
  "kernelspec": {
   "display_name": "Python 3",
   "language": "python",
   "name": "python3"
  },
  "language_info": {
   "codemirror_mode": {
    "name": "ipython",
    "version": 3
   },
   "file_extension": ".py",
   "mimetype": "text/x-python",
   "name": "python",
   "nbconvert_exporter": "python",
   "pygments_lexer": "ipython3",
   "version": "3.8.5"
  }
 },
 "nbformat": 4,
 "nbformat_minor": 1
}
